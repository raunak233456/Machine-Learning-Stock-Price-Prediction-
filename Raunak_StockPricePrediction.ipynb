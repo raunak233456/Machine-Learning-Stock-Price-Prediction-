{
  "nbformat": 4,
  "nbformat_minor": 0,
  "metadata": {
    "colab": {
      "provenance": [],
      "toc_visible": true,
      "authorship_tag": "ABX9TyNm/Zfb2lEUYK0Gj0MXiTQ2",
      "include_colab_link": true
    },
    "kernelspec": {
      "name": "python3",
      "display_name": "Python 3"
    },
    "language_info": {
      "name": "python"
    }
  },
  "cells": [
    {
      "cell_type": "markdown",
      "metadata": {
        "id": "view-in-github",
        "colab_type": "text"
      },
      "source": [
        "<a href=\"https://colab.research.google.com/github/raunak233456/Machine-Learning-Stock-Price-Prediction-/blob/main/Raunak_StockPricePrediction.ipynb\" target=\"_parent\"><img src=\"https://colab.research.google.com/assets/colab-badge.svg\" alt=\"Open In Colab\"/></a>"
      ]
    },
    {
      "cell_type": "markdown",
      "source": [
        "Raunak kumari\n",
        "\n",
        "Machine Learning\n",
        "\n",
        "Stock Price Analysis using linear regression and SVM technique\n",
        "\n",
        "> Add blockquote\n",
        "\n",
        "\n"
      ],
      "metadata": {
        "id": "KRZMebgt5yPl"
      }
    },
    {
      "cell_type": "code",
      "execution_count": 1,
      "metadata": {
        "id": "BVci5OoF1Xm4"
      },
      "outputs": [],
      "source": [
        "import numpy as np\n",
        "import pandas as pd\n",
        "import yfinance as yf\n",
        "import matplotlib.pyplot as plt  #visulaization lib\n",
        "import seaborn as sns #visualization libraries\n",
        "\n",
        "%matplotlib inline\n",
        "\n"
      ]
    },
    {
      "cell_type": "code",
      "source": [
        "stocks = input(\"Enter the code of the stock\")\n",
        "data= yf.download(stocks,\"2015-01-01\",\"2024-03-03\",auto_adjust= True)\n",
        "data.head()"
      ],
      "metadata": {
        "colab": {
          "base_uri": "https://localhost:8080/",
          "height": 272
        },
        "id": "-jVV9CBI1fkV",
        "outputId": "d3d236d5-ed8f-49fc-c431-cfacf0f4f61d"
      },
      "execution_count": 11,
      "outputs": [
        {
          "name": "stdout",
          "output_type": "stream",
          "text": [
            "Enter the code of the stockAIZ\n"
          ]
        },
        {
          "output_type": "stream",
          "name": "stderr",
          "text": [
            "\r[*********************100%%**********************]  1 of 1 completed\n"
          ]
        },
        {
          "output_type": "execute_result",
          "data": {
            "text/plain": [
              "                 Open       High        Low      Close  Volume\n",
              "Date                                                          \n",
              "2015-01-02  56.572427  56.820119  55.713773  55.953201  452300\n",
              "2015-01-05  55.854119  55.944939  54.483564  54.698231  656400\n",
              "2015-01-06  54.681735  55.185366  53.798307  53.938663  686000\n",
              "2015-01-07  54.244156  54.615695  53.831339  54.153336  576600\n",
              "2015-01-08  54.656965  55.193628  54.566145  54.962452  759400"
            ],
            "text/html": [
              "\n",
              "  <div id=\"df-b2b343b3-cf76-4d01-889e-20339e750ee3\" class=\"colab-df-container\">\n",
              "    <div>\n",
              "<style scoped>\n",
              "    .dataframe tbody tr th:only-of-type {\n",
              "        vertical-align: middle;\n",
              "    }\n",
              "\n",
              "    .dataframe tbody tr th {\n",
              "        vertical-align: top;\n",
              "    }\n",
              "\n",
              "    .dataframe thead th {\n",
              "        text-align: right;\n",
              "    }\n",
              "</style>\n",
              "<table border=\"1\" class=\"dataframe\">\n",
              "  <thead>\n",
              "    <tr style=\"text-align: right;\">\n",
              "      <th></th>\n",
              "      <th>Open</th>\n",
              "      <th>High</th>\n",
              "      <th>Low</th>\n",
              "      <th>Close</th>\n",
              "      <th>Volume</th>\n",
              "    </tr>\n",
              "    <tr>\n",
              "      <th>Date</th>\n",
              "      <th></th>\n",
              "      <th></th>\n",
              "      <th></th>\n",
              "      <th></th>\n",
              "      <th></th>\n",
              "    </tr>\n",
              "  </thead>\n",
              "  <tbody>\n",
              "    <tr>\n",
              "      <th>2015-01-02</th>\n",
              "      <td>56.572427</td>\n",
              "      <td>56.820119</td>\n",
              "      <td>55.713773</td>\n",
              "      <td>55.953201</td>\n",
              "      <td>452300</td>\n",
              "    </tr>\n",
              "    <tr>\n",
              "      <th>2015-01-05</th>\n",
              "      <td>55.854119</td>\n",
              "      <td>55.944939</td>\n",
              "      <td>54.483564</td>\n",
              "      <td>54.698231</td>\n",
              "      <td>656400</td>\n",
              "    </tr>\n",
              "    <tr>\n",
              "      <th>2015-01-06</th>\n",
              "      <td>54.681735</td>\n",
              "      <td>55.185366</td>\n",
              "      <td>53.798307</td>\n",
              "      <td>53.938663</td>\n",
              "      <td>686000</td>\n",
              "    </tr>\n",
              "    <tr>\n",
              "      <th>2015-01-07</th>\n",
              "      <td>54.244156</td>\n",
              "      <td>54.615695</td>\n",
              "      <td>53.831339</td>\n",
              "      <td>54.153336</td>\n",
              "      <td>576600</td>\n",
              "    </tr>\n",
              "    <tr>\n",
              "      <th>2015-01-08</th>\n",
              "      <td>54.656965</td>\n",
              "      <td>55.193628</td>\n",
              "      <td>54.566145</td>\n",
              "      <td>54.962452</td>\n",
              "      <td>759400</td>\n",
              "    </tr>\n",
              "  </tbody>\n",
              "</table>\n",
              "</div>\n",
              "    <div class=\"colab-df-buttons\">\n",
              "\n",
              "  <div class=\"colab-df-container\">\n",
              "    <button class=\"colab-df-convert\" onclick=\"convertToInteractive('df-b2b343b3-cf76-4d01-889e-20339e750ee3')\"\n",
              "            title=\"Convert this dataframe to an interactive table.\"\n",
              "            style=\"display:none;\">\n",
              "\n",
              "  <svg xmlns=\"http://www.w3.org/2000/svg\" height=\"24px\" viewBox=\"0 -960 960 960\">\n",
              "    <path d=\"M120-120v-720h720v720H120Zm60-500h600v-160H180v160Zm220 220h160v-160H400v160Zm0 220h160v-160H400v160ZM180-400h160v-160H180v160Zm440 0h160v-160H620v160ZM180-180h160v-160H180v160Zm440 0h160v-160H620v160Z\"/>\n",
              "  </svg>\n",
              "    </button>\n",
              "\n",
              "  <style>\n",
              "    .colab-df-container {\n",
              "      display:flex;\n",
              "      gap: 12px;\n",
              "    }\n",
              "\n",
              "    .colab-df-convert {\n",
              "      background-color: #E8F0FE;\n",
              "      border: none;\n",
              "      border-radius: 50%;\n",
              "      cursor: pointer;\n",
              "      display: none;\n",
              "      fill: #1967D2;\n",
              "      height: 32px;\n",
              "      padding: 0 0 0 0;\n",
              "      width: 32px;\n",
              "    }\n",
              "\n",
              "    .colab-df-convert:hover {\n",
              "      background-color: #E2EBFA;\n",
              "      box-shadow: 0px 1px 2px rgba(60, 64, 67, 0.3), 0px 1px 3px 1px rgba(60, 64, 67, 0.15);\n",
              "      fill: #174EA6;\n",
              "    }\n",
              "\n",
              "    .colab-df-buttons div {\n",
              "      margin-bottom: 4px;\n",
              "    }\n",
              "\n",
              "    [theme=dark] .colab-df-convert {\n",
              "      background-color: #3B4455;\n",
              "      fill: #D2E3FC;\n",
              "    }\n",
              "\n",
              "    [theme=dark] .colab-df-convert:hover {\n",
              "      background-color: #434B5C;\n",
              "      box-shadow: 0px 1px 3px 1px rgba(0, 0, 0, 0.15);\n",
              "      filter: drop-shadow(0px 1px 2px rgba(0, 0, 0, 0.3));\n",
              "      fill: #FFFFFF;\n",
              "    }\n",
              "  </style>\n",
              "\n",
              "    <script>\n",
              "      const buttonEl =\n",
              "        document.querySelector('#df-b2b343b3-cf76-4d01-889e-20339e750ee3 button.colab-df-convert');\n",
              "      buttonEl.style.display =\n",
              "        google.colab.kernel.accessAllowed ? 'block' : 'none';\n",
              "\n",
              "      async function convertToInteractive(key) {\n",
              "        const element = document.querySelector('#df-b2b343b3-cf76-4d01-889e-20339e750ee3');\n",
              "        const dataTable =\n",
              "          await google.colab.kernel.invokeFunction('convertToInteractive',\n",
              "                                                    [key], {});\n",
              "        if (!dataTable) return;\n",
              "\n",
              "        const docLinkHtml = 'Like what you see? Visit the ' +\n",
              "          '<a target=\"_blank\" href=https://colab.research.google.com/notebooks/data_table.ipynb>data table notebook</a>'\n",
              "          + ' to learn more about interactive tables.';\n",
              "        element.innerHTML = '';\n",
              "        dataTable['output_type'] = 'display_data';\n",
              "        await google.colab.output.renderOutput(dataTable, element);\n",
              "        const docLink = document.createElement('div');\n",
              "        docLink.innerHTML = docLinkHtml;\n",
              "        element.appendChild(docLink);\n",
              "      }\n",
              "    </script>\n",
              "  </div>\n",
              "\n",
              "\n",
              "<div id=\"df-e6659232-0e8e-4261-93b8-e78a46206254\">\n",
              "  <button class=\"colab-df-quickchart\" onclick=\"quickchart('df-e6659232-0e8e-4261-93b8-e78a46206254')\"\n",
              "            title=\"Suggest charts\"\n",
              "            style=\"display:none;\">\n",
              "\n",
              "<svg xmlns=\"http://www.w3.org/2000/svg\" height=\"24px\"viewBox=\"0 0 24 24\"\n",
              "     width=\"24px\">\n",
              "    <g>\n",
              "        <path d=\"M19 3H5c-1.1 0-2 .9-2 2v14c0 1.1.9 2 2 2h14c1.1 0 2-.9 2-2V5c0-1.1-.9-2-2-2zM9 17H7v-7h2v7zm4 0h-2V7h2v10zm4 0h-2v-4h2v4z\"/>\n",
              "    </g>\n",
              "</svg>\n",
              "  </button>\n",
              "\n",
              "<style>\n",
              "  .colab-df-quickchart {\n",
              "      --bg-color: #E8F0FE;\n",
              "      --fill-color: #1967D2;\n",
              "      --hover-bg-color: #E2EBFA;\n",
              "      --hover-fill-color: #174EA6;\n",
              "      --disabled-fill-color: #AAA;\n",
              "      --disabled-bg-color: #DDD;\n",
              "  }\n",
              "\n",
              "  [theme=dark] .colab-df-quickchart {\n",
              "      --bg-color: #3B4455;\n",
              "      --fill-color: #D2E3FC;\n",
              "      --hover-bg-color: #434B5C;\n",
              "      --hover-fill-color: #FFFFFF;\n",
              "      --disabled-bg-color: #3B4455;\n",
              "      --disabled-fill-color: #666;\n",
              "  }\n",
              "\n",
              "  .colab-df-quickchart {\n",
              "    background-color: var(--bg-color);\n",
              "    border: none;\n",
              "    border-radius: 50%;\n",
              "    cursor: pointer;\n",
              "    display: none;\n",
              "    fill: var(--fill-color);\n",
              "    height: 32px;\n",
              "    padding: 0;\n",
              "    width: 32px;\n",
              "  }\n",
              "\n",
              "  .colab-df-quickchart:hover {\n",
              "    background-color: var(--hover-bg-color);\n",
              "    box-shadow: 0 1px 2px rgba(60, 64, 67, 0.3), 0 1px 3px 1px rgba(60, 64, 67, 0.15);\n",
              "    fill: var(--button-hover-fill-color);\n",
              "  }\n",
              "\n",
              "  .colab-df-quickchart-complete:disabled,\n",
              "  .colab-df-quickchart-complete:disabled:hover {\n",
              "    background-color: var(--disabled-bg-color);\n",
              "    fill: var(--disabled-fill-color);\n",
              "    box-shadow: none;\n",
              "  }\n",
              "\n",
              "  .colab-df-spinner {\n",
              "    border: 2px solid var(--fill-color);\n",
              "    border-color: transparent;\n",
              "    border-bottom-color: var(--fill-color);\n",
              "    animation:\n",
              "      spin 1s steps(1) infinite;\n",
              "  }\n",
              "\n",
              "  @keyframes spin {\n",
              "    0% {\n",
              "      border-color: transparent;\n",
              "      border-bottom-color: var(--fill-color);\n",
              "      border-left-color: var(--fill-color);\n",
              "    }\n",
              "    20% {\n",
              "      border-color: transparent;\n",
              "      border-left-color: var(--fill-color);\n",
              "      border-top-color: var(--fill-color);\n",
              "    }\n",
              "    30% {\n",
              "      border-color: transparent;\n",
              "      border-left-color: var(--fill-color);\n",
              "      border-top-color: var(--fill-color);\n",
              "      border-right-color: var(--fill-color);\n",
              "    }\n",
              "    40% {\n",
              "      border-color: transparent;\n",
              "      border-right-color: var(--fill-color);\n",
              "      border-top-color: var(--fill-color);\n",
              "    }\n",
              "    60% {\n",
              "      border-color: transparent;\n",
              "      border-right-color: var(--fill-color);\n",
              "    }\n",
              "    80% {\n",
              "      border-color: transparent;\n",
              "      border-right-color: var(--fill-color);\n",
              "      border-bottom-color: var(--fill-color);\n",
              "    }\n",
              "    90% {\n",
              "      border-color: transparent;\n",
              "      border-bottom-color: var(--fill-color);\n",
              "    }\n",
              "  }\n",
              "</style>\n",
              "\n",
              "  <script>\n",
              "    async function quickchart(key) {\n",
              "      const quickchartButtonEl =\n",
              "        document.querySelector('#' + key + ' button');\n",
              "      quickchartButtonEl.disabled = true;  // To prevent multiple clicks.\n",
              "      quickchartButtonEl.classList.add('colab-df-spinner');\n",
              "      try {\n",
              "        const charts = await google.colab.kernel.invokeFunction(\n",
              "            'suggestCharts', [key], {});\n",
              "      } catch (error) {\n",
              "        console.error('Error during call to suggestCharts:', error);\n",
              "      }\n",
              "      quickchartButtonEl.classList.remove('colab-df-spinner');\n",
              "      quickchartButtonEl.classList.add('colab-df-quickchart-complete');\n",
              "    }\n",
              "    (() => {\n",
              "      let quickchartButtonEl =\n",
              "        document.querySelector('#df-e6659232-0e8e-4261-93b8-e78a46206254 button');\n",
              "      quickchartButtonEl.style.display =\n",
              "        google.colab.kernel.accessAllowed ? 'block' : 'none';\n",
              "    })();\n",
              "  </script>\n",
              "</div>\n",
              "\n",
              "    </div>\n",
              "  </div>\n"
            ],
            "application/vnd.google.colaboratory.intrinsic+json": {
              "type": "dataframe",
              "variable_name": "data",
              "summary": "{\n  \"name\": \"data\",\n  \"rows\": 2306,\n  \"fields\": [\n    {\n      \"column\": \"Date\",\n      \"properties\": {\n        \"dtype\": \"date\",\n        \"min\": \"2015-01-02 00:00:00\",\n        \"max\": \"2024-03-01 00:00:00\",\n        \"num_unique_values\": 2306,\n        \"samples\": [\n          \"2021-07-12 00:00:00\",\n          \"2017-01-10 00:00:00\",\n          \"2022-05-20 00:00:00\"\n        ],\n        \"semantic_type\": \"\",\n        \"description\": \"\"\n      }\n    },\n    {\n      \"column\": \"Open\",\n      \"properties\": {\n        \"dtype\": \"number\",\n        \"std\": 34.40902073990443,\n        \"min\": 49.55251484975756,\n        \"max\": 186.73535850136935,\n        \"num_unique_values\": 2306,\n        \"samples\": [\n          148.04238281940624,\n          81.28327299823907,\n          174.6938196374468\n        ],\n        \"semantic_type\": \"\",\n        \"description\": \"\"\n      }\n    },\n    {\n      \"column\": \"High\",\n      \"properties\": {\n        \"dtype\": \"number\",\n        \"std\": 34.73455345195457,\n        \"min\": 50.19109208913927,\n        \"max\": 186.85086020872203,\n        \"num_unique_values\": 2306,\n        \"samples\": [\n          150.09600696879974,\n          82.11991217288139,\n          175.13658597088664\n        ],\n        \"semantic_type\": \"\",\n        \"description\": \"\"\n      }\n    },\n    {\n      \"column\": \"Low\",\n      \"properties\": {\n        \"dtype\": \"number\",\n        \"std\": 34.06827418041825,\n        \"min\": 49.535920106293545,\n        \"max\": 183.08727143743357,\n        \"num_unique_values\": 2305,\n        \"samples\": [\n          148.04238281940624,\n          81.01589591042983,\n          113.67101151327279\n        ],\n        \"semantic_type\": \"\",\n        \"description\": \"\"\n      }\n    },\n    {\n      \"column\": \"Close\",\n      \"properties\": {\n        \"dtype\": \"number\",\n        \"std\": 34.399286465441186,\n        \"min\": 49.643733978271484,\n        \"max\": 185.88829040527344,\n        \"num_unique_values\": 2251,\n        \"samples\": [\n          157.5251922607422,\n          171.80616760253906,\n          87.32284545898438\n        ],\n        \"semantic_type\": \"\",\n        \"description\": \"\"\n      }\n    },\n    {\n      \"column\": \"Volume\",\n      \"properties\": {\n        \"dtype\": \"number\",\n        \"std\": 285423,\n        \"min\": 86700,\n        \"max\": 6017000,\n        \"num_unique_values\": 1921,\n        \"samples\": [\n          993900,\n          413800,\n          205100\n        ],\n        \"semantic_type\": \"\",\n        \"description\": \"\"\n      }\n    }\n  ]\n}"
            }
          },
          "metadata": {},
          "execution_count": 11
        }
      ]
    },
    {
      "cell_type": "code",
      "source": [
        "data.shape"
      ],
      "metadata": {
        "colab": {
          "base_uri": "https://localhost:8080/"
        },
        "id": "S5tOBE_P4cMa",
        "outputId": "14305123-b975-425a-93c2-65915b0bbc06"
      },
      "execution_count": 12,
      "outputs": [
        {
          "output_type": "execute_result",
          "data": {
            "text/plain": [
              "(2306, 5)"
            ]
          },
          "metadata": {},
          "execution_count": 12
        }
      ]
    },
    {
      "cell_type": "code",
      "source": [
        "data.describe()"
      ],
      "metadata": {
        "colab": {
          "base_uri": "https://localhost:8080/",
          "height": 300
        },
        "id": "49JlOIpY4oXD",
        "outputId": "274121e6-de27-44c9-d1e5-6ec1e609bb66"
      },
      "execution_count": 13,
      "outputs": [
        {
          "output_type": "execute_result",
          "data": {
            "text/plain": [
              "              Open         High          Low        Close        Volume\n",
              "count  2306.000000  2306.000000  2306.000000  2306.000000  2.306000e+03\n",
              "mean    106.649821   107.717934   105.612286   106.667317  4.926098e+05\n",
              "std      34.409021    34.734553    34.068274    34.399286  2.854233e+05\n",
              "min      49.552515    50.191092    49.535920    49.643734  8.670000e+04\n",
              "25%      80.604804    81.571187    79.884420    80.732416  3.247000e+05\n",
              "50%      96.348414    97.242082    95.105572    96.302845  4.256500e+05\n",
              "75%     130.216095   131.517133   129.032341   130.495678  5.735750e+05\n",
              "max     186.735359   186.850860   183.087271   185.888290  6.017000e+06"
            ],
            "text/html": [
              "\n",
              "  <div id=\"df-594f9e7c-f28b-4bdf-a2a8-081dd98ec2ec\" class=\"colab-df-container\">\n",
              "    <div>\n",
              "<style scoped>\n",
              "    .dataframe tbody tr th:only-of-type {\n",
              "        vertical-align: middle;\n",
              "    }\n",
              "\n",
              "    .dataframe tbody tr th {\n",
              "        vertical-align: top;\n",
              "    }\n",
              "\n",
              "    .dataframe thead th {\n",
              "        text-align: right;\n",
              "    }\n",
              "</style>\n",
              "<table border=\"1\" class=\"dataframe\">\n",
              "  <thead>\n",
              "    <tr style=\"text-align: right;\">\n",
              "      <th></th>\n",
              "      <th>Open</th>\n",
              "      <th>High</th>\n",
              "      <th>Low</th>\n",
              "      <th>Close</th>\n",
              "      <th>Volume</th>\n",
              "    </tr>\n",
              "  </thead>\n",
              "  <tbody>\n",
              "    <tr>\n",
              "      <th>count</th>\n",
              "      <td>2306.000000</td>\n",
              "      <td>2306.000000</td>\n",
              "      <td>2306.000000</td>\n",
              "      <td>2306.000000</td>\n",
              "      <td>2.306000e+03</td>\n",
              "    </tr>\n",
              "    <tr>\n",
              "      <th>mean</th>\n",
              "      <td>106.649821</td>\n",
              "      <td>107.717934</td>\n",
              "      <td>105.612286</td>\n",
              "      <td>106.667317</td>\n",
              "      <td>4.926098e+05</td>\n",
              "    </tr>\n",
              "    <tr>\n",
              "      <th>std</th>\n",
              "      <td>34.409021</td>\n",
              "      <td>34.734553</td>\n",
              "      <td>34.068274</td>\n",
              "      <td>34.399286</td>\n",
              "      <td>2.854233e+05</td>\n",
              "    </tr>\n",
              "    <tr>\n",
              "      <th>min</th>\n",
              "      <td>49.552515</td>\n",
              "      <td>50.191092</td>\n",
              "      <td>49.535920</td>\n",
              "      <td>49.643734</td>\n",
              "      <td>8.670000e+04</td>\n",
              "    </tr>\n",
              "    <tr>\n",
              "      <th>25%</th>\n",
              "      <td>80.604804</td>\n",
              "      <td>81.571187</td>\n",
              "      <td>79.884420</td>\n",
              "      <td>80.732416</td>\n",
              "      <td>3.247000e+05</td>\n",
              "    </tr>\n",
              "    <tr>\n",
              "      <th>50%</th>\n",
              "      <td>96.348414</td>\n",
              "      <td>97.242082</td>\n",
              "      <td>95.105572</td>\n",
              "      <td>96.302845</td>\n",
              "      <td>4.256500e+05</td>\n",
              "    </tr>\n",
              "    <tr>\n",
              "      <th>75%</th>\n",
              "      <td>130.216095</td>\n",
              "      <td>131.517133</td>\n",
              "      <td>129.032341</td>\n",
              "      <td>130.495678</td>\n",
              "      <td>5.735750e+05</td>\n",
              "    </tr>\n",
              "    <tr>\n",
              "      <th>max</th>\n",
              "      <td>186.735359</td>\n",
              "      <td>186.850860</td>\n",
              "      <td>183.087271</td>\n",
              "      <td>185.888290</td>\n",
              "      <td>6.017000e+06</td>\n",
              "    </tr>\n",
              "  </tbody>\n",
              "</table>\n",
              "</div>\n",
              "    <div class=\"colab-df-buttons\">\n",
              "\n",
              "  <div class=\"colab-df-container\">\n",
              "    <button class=\"colab-df-convert\" onclick=\"convertToInteractive('df-594f9e7c-f28b-4bdf-a2a8-081dd98ec2ec')\"\n",
              "            title=\"Convert this dataframe to an interactive table.\"\n",
              "            style=\"display:none;\">\n",
              "\n",
              "  <svg xmlns=\"http://www.w3.org/2000/svg\" height=\"24px\" viewBox=\"0 -960 960 960\">\n",
              "    <path d=\"M120-120v-720h720v720H120Zm60-500h600v-160H180v160Zm220 220h160v-160H400v160Zm0 220h160v-160H400v160ZM180-400h160v-160H180v160Zm440 0h160v-160H620v160ZM180-180h160v-160H180v160Zm440 0h160v-160H620v160Z\"/>\n",
              "  </svg>\n",
              "    </button>\n",
              "\n",
              "  <style>\n",
              "    .colab-df-container {\n",
              "      display:flex;\n",
              "      gap: 12px;\n",
              "    }\n",
              "\n",
              "    .colab-df-convert {\n",
              "      background-color: #E8F0FE;\n",
              "      border: none;\n",
              "      border-radius: 50%;\n",
              "      cursor: pointer;\n",
              "      display: none;\n",
              "      fill: #1967D2;\n",
              "      height: 32px;\n",
              "      padding: 0 0 0 0;\n",
              "      width: 32px;\n",
              "    }\n",
              "\n",
              "    .colab-df-convert:hover {\n",
              "      background-color: #E2EBFA;\n",
              "      box-shadow: 0px 1px 2px rgba(60, 64, 67, 0.3), 0px 1px 3px 1px rgba(60, 64, 67, 0.15);\n",
              "      fill: #174EA6;\n",
              "    }\n",
              "\n",
              "    .colab-df-buttons div {\n",
              "      margin-bottom: 4px;\n",
              "    }\n",
              "\n",
              "    [theme=dark] .colab-df-convert {\n",
              "      background-color: #3B4455;\n",
              "      fill: #D2E3FC;\n",
              "    }\n",
              "\n",
              "    [theme=dark] .colab-df-convert:hover {\n",
              "      background-color: #434B5C;\n",
              "      box-shadow: 0px 1px 3px 1px rgba(0, 0, 0, 0.15);\n",
              "      filter: drop-shadow(0px 1px 2px rgba(0, 0, 0, 0.3));\n",
              "      fill: #FFFFFF;\n",
              "    }\n",
              "  </style>\n",
              "\n",
              "    <script>\n",
              "      const buttonEl =\n",
              "        document.querySelector('#df-594f9e7c-f28b-4bdf-a2a8-081dd98ec2ec button.colab-df-convert');\n",
              "      buttonEl.style.display =\n",
              "        google.colab.kernel.accessAllowed ? 'block' : 'none';\n",
              "\n",
              "      async function convertToInteractive(key) {\n",
              "        const element = document.querySelector('#df-594f9e7c-f28b-4bdf-a2a8-081dd98ec2ec');\n",
              "        const dataTable =\n",
              "          await google.colab.kernel.invokeFunction('convertToInteractive',\n",
              "                                                    [key], {});\n",
              "        if (!dataTable) return;\n",
              "\n",
              "        const docLinkHtml = 'Like what you see? Visit the ' +\n",
              "          '<a target=\"_blank\" href=https://colab.research.google.com/notebooks/data_table.ipynb>data table notebook</a>'\n",
              "          + ' to learn more about interactive tables.';\n",
              "        element.innerHTML = '';\n",
              "        dataTable['output_type'] = 'display_data';\n",
              "        await google.colab.output.renderOutput(dataTable, element);\n",
              "        const docLink = document.createElement('div');\n",
              "        docLink.innerHTML = docLinkHtml;\n",
              "        element.appendChild(docLink);\n",
              "      }\n",
              "    </script>\n",
              "  </div>\n",
              "\n",
              "\n",
              "<div id=\"df-bc3f7124-ec46-4c2e-a503-24125558f655\">\n",
              "  <button class=\"colab-df-quickchart\" onclick=\"quickchart('df-bc3f7124-ec46-4c2e-a503-24125558f655')\"\n",
              "            title=\"Suggest charts\"\n",
              "            style=\"display:none;\">\n",
              "\n",
              "<svg xmlns=\"http://www.w3.org/2000/svg\" height=\"24px\"viewBox=\"0 0 24 24\"\n",
              "     width=\"24px\">\n",
              "    <g>\n",
              "        <path d=\"M19 3H5c-1.1 0-2 .9-2 2v14c0 1.1.9 2 2 2h14c1.1 0 2-.9 2-2V5c0-1.1-.9-2-2-2zM9 17H7v-7h2v7zm4 0h-2V7h2v10zm4 0h-2v-4h2v4z\"/>\n",
              "    </g>\n",
              "</svg>\n",
              "  </button>\n",
              "\n",
              "<style>\n",
              "  .colab-df-quickchart {\n",
              "      --bg-color: #E8F0FE;\n",
              "      --fill-color: #1967D2;\n",
              "      --hover-bg-color: #E2EBFA;\n",
              "      --hover-fill-color: #174EA6;\n",
              "      --disabled-fill-color: #AAA;\n",
              "      --disabled-bg-color: #DDD;\n",
              "  }\n",
              "\n",
              "  [theme=dark] .colab-df-quickchart {\n",
              "      --bg-color: #3B4455;\n",
              "      --fill-color: #D2E3FC;\n",
              "      --hover-bg-color: #434B5C;\n",
              "      --hover-fill-color: #FFFFFF;\n",
              "      --disabled-bg-color: #3B4455;\n",
              "      --disabled-fill-color: #666;\n",
              "  }\n",
              "\n",
              "  .colab-df-quickchart {\n",
              "    background-color: var(--bg-color);\n",
              "    border: none;\n",
              "    border-radius: 50%;\n",
              "    cursor: pointer;\n",
              "    display: none;\n",
              "    fill: var(--fill-color);\n",
              "    height: 32px;\n",
              "    padding: 0;\n",
              "    width: 32px;\n",
              "  }\n",
              "\n",
              "  .colab-df-quickchart:hover {\n",
              "    background-color: var(--hover-bg-color);\n",
              "    box-shadow: 0 1px 2px rgba(60, 64, 67, 0.3), 0 1px 3px 1px rgba(60, 64, 67, 0.15);\n",
              "    fill: var(--button-hover-fill-color);\n",
              "  }\n",
              "\n",
              "  .colab-df-quickchart-complete:disabled,\n",
              "  .colab-df-quickchart-complete:disabled:hover {\n",
              "    background-color: var(--disabled-bg-color);\n",
              "    fill: var(--disabled-fill-color);\n",
              "    box-shadow: none;\n",
              "  }\n",
              "\n",
              "  .colab-df-spinner {\n",
              "    border: 2px solid var(--fill-color);\n",
              "    border-color: transparent;\n",
              "    border-bottom-color: var(--fill-color);\n",
              "    animation:\n",
              "      spin 1s steps(1) infinite;\n",
              "  }\n",
              "\n",
              "  @keyframes spin {\n",
              "    0% {\n",
              "      border-color: transparent;\n",
              "      border-bottom-color: var(--fill-color);\n",
              "      border-left-color: var(--fill-color);\n",
              "    }\n",
              "    20% {\n",
              "      border-color: transparent;\n",
              "      border-left-color: var(--fill-color);\n",
              "      border-top-color: var(--fill-color);\n",
              "    }\n",
              "    30% {\n",
              "      border-color: transparent;\n",
              "      border-left-color: var(--fill-color);\n",
              "      border-top-color: var(--fill-color);\n",
              "      border-right-color: var(--fill-color);\n",
              "    }\n",
              "    40% {\n",
              "      border-color: transparent;\n",
              "      border-right-color: var(--fill-color);\n",
              "      border-top-color: var(--fill-color);\n",
              "    }\n",
              "    60% {\n",
              "      border-color: transparent;\n",
              "      border-right-color: var(--fill-color);\n",
              "    }\n",
              "    80% {\n",
              "      border-color: transparent;\n",
              "      border-right-color: var(--fill-color);\n",
              "      border-bottom-color: var(--fill-color);\n",
              "    }\n",
              "    90% {\n",
              "      border-color: transparent;\n",
              "      border-bottom-color: var(--fill-color);\n",
              "    }\n",
              "  }\n",
              "</style>\n",
              "\n",
              "  <script>\n",
              "    async function quickchart(key) {\n",
              "      const quickchartButtonEl =\n",
              "        document.querySelector('#' + key + ' button');\n",
              "      quickchartButtonEl.disabled = true;  // To prevent multiple clicks.\n",
              "      quickchartButtonEl.classList.add('colab-df-spinner');\n",
              "      try {\n",
              "        const charts = await google.colab.kernel.invokeFunction(\n",
              "            'suggestCharts', [key], {});\n",
              "      } catch (error) {\n",
              "        console.error('Error during call to suggestCharts:', error);\n",
              "      }\n",
              "      quickchartButtonEl.classList.remove('colab-df-spinner');\n",
              "      quickchartButtonEl.classList.add('colab-df-quickchart-complete');\n",
              "    }\n",
              "    (() => {\n",
              "      let quickchartButtonEl =\n",
              "        document.querySelector('#df-bc3f7124-ec46-4c2e-a503-24125558f655 button');\n",
              "      quickchartButtonEl.style.display =\n",
              "        google.colab.kernel.accessAllowed ? 'block' : 'none';\n",
              "    })();\n",
              "  </script>\n",
              "</div>\n",
              "\n",
              "    </div>\n",
              "  </div>\n"
            ],
            "application/vnd.google.colaboratory.intrinsic+json": {
              "type": "dataframe",
              "summary": "{\n  \"name\": \"data\",\n  \"rows\": 8,\n  \"fields\": [\n    {\n      \"column\": \"Open\",\n      \"properties\": {\n        \"dtype\": \"number\",\n        \"std\": 782.1543352782954,\n        \"min\": 34.40902073990443,\n        \"max\": 2306.0,\n        \"num_unique_values\": 8,\n        \"samples\": [\n          106.64982072241762,\n          96.3484137629174,\n          2306.0\n        ],\n        \"semantic_type\": \"\",\n        \"description\": \"\"\n      }\n    },\n    {\n      \"column\": \"High\",\n      \"properties\": {\n        \"dtype\": \"number\",\n        \"std\": 781.8854373089437,\n        \"min\": 34.73455345195457,\n        \"max\": 2306.0,\n        \"num_unique_values\": 8,\n        \"samples\": [\n          107.71793351963879,\n          97.24208234204298,\n          2306.0\n        ],\n        \"semantic_type\": \"\",\n        \"description\": \"\"\n      }\n    },\n    {\n      \"column\": \"Low\",\n      \"properties\": {\n        \"dtype\": \"number\",\n        \"std\": 782.5067488468594,\n        \"min\": 34.06827418041825,\n        \"max\": 2306.0,\n        \"num_unique_values\": 8,\n        \"samples\": [\n          105.6122864825704,\n          95.10557239603088,\n          2306.0\n        ],\n        \"semantic_type\": \"\",\n        \"description\": \"\"\n      }\n    },\n    {\n      \"column\": \"Close\",\n      \"properties\": {\n        \"dtype\": \"number\",\n        \"std\": 782.1607355567279,\n        \"min\": 34.399286465441186,\n        \"max\": 2306.0,\n        \"num_unique_values\": 8,\n        \"samples\": [\n          106.66731713816898,\n          96.3028450012207,\n          2306.0\n        ],\n        \"semantic_type\": \"\",\n        \"description\": \"\"\n      }\n    },\n    {\n      \"column\": \"Volume\",\n      \"properties\": {\n        \"dtype\": \"number\",\n        \"std\": 2025910.871619702,\n        \"min\": 2306.0,\n        \"max\": 6017000.0,\n        \"num_unique_values\": 8,\n        \"samples\": [\n          492609.7571552472,\n          425650.0,\n          2306.0\n        ],\n        \"semantic_type\": \"\",\n        \"description\": \"\"\n      }\n    }\n  ]\n}"
            }
          },
          "metadata": {},
          "execution_count": 13
        }
      ]
    },
    {
      "cell_type": "code",
      "source": [
        "data.info()"
      ],
      "metadata": {
        "colab": {
          "base_uri": "https://localhost:8080/"
        },
        "id": "dSHSNAzL4yIj",
        "outputId": "a544f247-4123-4f2a-ade5-c981de4c59ea"
      },
      "execution_count": 14,
      "outputs": [
        {
          "output_type": "stream",
          "name": "stdout",
          "text": [
            "<class 'pandas.core.frame.DataFrame'>\n",
            "DatetimeIndex: 2306 entries, 2015-01-02 to 2024-03-01\n",
            "Data columns (total 5 columns):\n",
            " #   Column  Non-Null Count  Dtype  \n",
            "---  ------  --------------  -----  \n",
            " 0   Open    2306 non-null   float64\n",
            " 1   High    2306 non-null   float64\n",
            " 2   Low     2306 non-null   float64\n",
            " 3   Close   2306 non-null   float64\n",
            " 4   Volume  2306 non-null   int64  \n",
            "dtypes: float64(4), int64(1)\n",
            "memory usage: 108.1 KB\n"
          ]
        }
      ]
    },
    {
      "cell_type": "code",
      "source": [
        "data.Close.plot(figsize =(10,7),color='r')\n",
        "plt.ylabel(\"{} Prices\".format(stocks))\n",
        "plt.title(\"{} Price_Series\".format(stocks))\n",
        "plt.show()"
      ],
      "metadata": {
        "colab": {
          "base_uri": "https://localhost:8080/",
          "height": 594
        },
        "id": "QUGcXH2Z418g",
        "outputId": "27c77614-8957-44f0-84d4-0e7d510c23b8"
      },
      "execution_count": 15,
      "outputs": [
        {
          "output_type": "display_data",
          "data": {
            "text/plain": [
              "<Figure size 1000x700 with 1 Axes>"
            ],
            "image/png": "[encoded data removed]"
          },
          "metadata": {}
        }
      ]
    },
    {
      "cell_type": "code",
      "source": [
        "sns.displot(data[\"Close\"])"
      ],
      "metadata": {
        "colab": {
          "base_uri": "https://localhost:8080/",
          "height": 523
        },
        "id": "1jkXOdOG5mGP",
        "outputId": "cd87c5b4-67db-436a-d546-24a514603dd0"
      },
      "execution_count": 16,
      "outputs": [
        {
          "output_type": "execute_result",
          "data": {
            "text/plain": [
              "<seaborn.axisgrid.FacetGrid at 0x7fc403985d50>"
            ]
          },
          "metadata": {},
          "execution_count": 16
        },
        {
          "output_type": "display_data",
          "data": {
            "text/plain": [
              "<Figure size 500x500 with 1 Axes>"
            ],
            "image/png": "[encoded data removed]"
          },
          "metadata": {}
        }
      ]
    },
    {
      "cell_type": "markdown",
      "source": [],
      "metadata": {
        "id": "XFn5nH7N5oLj"
      }
    },
    {
      "cell_type": "code",
      "source": [
        "sns.displot(data[\"High\"])"
      ],
      "metadata": {
        "colab": {
          "base_uri": "https://localhost:8080/",
          "height": 523
        },
        "id": "UcKUl1pp6ChX",
        "outputId": "81c1ba22-ccc4-4f88-fa0a-abddedd57d67"
      },
      "execution_count": 18,
      "outputs": [
        {
          "output_type": "execute_result",
          "data": {
            "text/plain": [
              "<seaborn.axisgrid.FacetGrid at 0x7fc401758fa0>"
            ]
          },
          "metadata": {},
          "execution_count": 18
        },
        {
          "output_type": "display_data",
          "data": {
            "text/plain": [
              "<Figure size 500x500 with 1 Axes>"
            ],
            "image/png": "[encoded data removed]"
          },
          "metadata": {}
        }
      ]
    },
    {
      "cell_type": "markdown",
      "source": [],
      "metadata": {
        "id": "-PWK0iUU5seD"
      }
    },
    {
      "cell_type": "code",
      "source": [
        "x = data.drop(\"Close\", axis=1)\n",
        "y = data[\"Close\"]  # target variable\n",
        "\n",
        "from sklearn.model_selection import train_test_split\n",
        "\n",
        "x_train, x_test, y_train, y_test  = train_test_split(x,y, test_size=0.2, random_state =0 ) #data will not change random_state\n",
        "\n",
        "\n",
        "print(x_train.shape)\n",
        "print(x_test.shape)\n",
        "print(y_train.shape)\n",
        "print(y_test.shape)"
      ],
      "metadata": {
        "colab": {
          "base_uri": "https://localhost:8080/"
        },
        "id": "Uq75QU7o6N1w",
        "outputId": "7083ad98-aadf-4472-ed67-5fcb48f59902"
      },
      "execution_count": 19,
      "outputs": [
        {
          "output_type": "stream",
          "name": "stdout",
          "text": [
            "(1844, 4)\n",
            "(462, 4)\n",
            "(1844,)\n",
            "(462,)\n"
          ]
        }
      ]
    },
    {
      "cell_type": "code",
      "source": [
        "!pip install scikit-learn"
      ],
      "metadata": {
        "colab": {
          "base_uri": "https://localhost:8080/"
        },
        "id": "A0zl22yPDMn9",
        "outputId": "857013b5-8c3c-4e6b-aa9b-6f2a008a6c8c"
      },
      "execution_count": 21,
      "outputs": [
        {
          "output_type": "stream",
          "name": "stdout",
          "text": [
            "Requirement already satisfied: scikit-learn in /usr/local/lib/python3.10/dist-packages (1.2.2)\n",
            "Requirement already satisfied: numpy>=1.17.3 in /usr/local/lib/python3.10/dist-packages (from scikit-learn) (1.25.2)\n",
            "Requirement already satisfied: scipy>=1.3.2 in /usr/local/lib/python3.10/dist-packages (from scikit-learn) (1.11.4)\n",
            "Requirement already satisfied: joblib>=1.1.1 in /usr/local/lib/python3.10/dist-packages (from scikit-learn) (1.4.2)\n",
            "Requirement already satisfied: threadpoolctl>=2.0.0 in /usr/local/lib/python3.10/dist-packages (from scikit-learn) (3.5.0)\n"
          ]
        }
      ]
    },
    {
      "cell_type": "code",
      "source": [
        "from sklearn.linear_model import LinearRegression\n",
        "from sklearn.svm import SVR\n",
        "\n",
        "lr = LinearRegression()\n",
        "lr.fit(x_train, y_train)\n",
        "\n",
        "pred1 = lr.predict(x_test)"
      ],
      "metadata": {
        "id": "Q-kHGpLX70wN"
      },
      "execution_count": 24,
      "outputs": []
    },
    {
      "cell_type": "code",
      "source": [
        "pred1"
      ],
      "metadata": {
        "colab": {
          "base_uri": "https://localhost:8080/"
        },
        "id": "nEE1v-GlFL1G",
        "outputId": "6e545159-026c-4e85-c794-90d4996645e7"
      },
      "execution_count": 27,
      "outputs": [
        {
          "output_type": "execute_result",
          "data": {
            "text/plain": [
              "array([ 57.12727801, 179.92627898, 115.22734551, 141.45256069,\n",
              "       152.39237247,  92.69140297,  76.47269579, 109.72600453,\n",
              "       147.08276751,  83.80341962, 100.62113724,  84.75500187,\n",
              "       130.2324333 ,  78.04102283, 160.96976666, 170.99308592,\n",
              "        63.89156233,  82.76648028, 141.68220175,  81.04547118,\n",
              "        85.90364268,  78.27740932,  90.06784394, 120.13516051,\n",
              "        82.375245  , 116.11767132,  71.84305379,  98.04509434,\n",
              "        50.63468625,  88.32499885, 156.5159682 , 165.08024891,\n",
              "        91.09025707, 174.58881214,  84.32279782,  87.35151416,\n",
              "        65.89104389,  86.68469486, 179.8659596 ,  74.74637668,\n",
              "        94.88301488,  69.23066019,  67.23145295,  86.94854507,\n",
              "        65.60028095,  67.45105379, 145.82724524,  79.07163848,\n",
              "        82.30539381,  59.62553657, 169.72041541,  51.01376497,\n",
              "        86.45595686, 148.10444334,  50.8696365 ,  81.69059339,\n",
              "        80.64871019, 120.99862792,  82.46025852, 116.09930163,\n",
              "        90.12075633, 168.02953434,  51.63518224, 115.26808683,\n",
              "        72.19137673, 125.9768959 , 126.62562224, 151.96580701,\n",
              "       147.51164346,  54.87117704, 146.85739568,  88.17883092,\n",
              "       124.9415875 , 138.66975031, 164.76810168, 154.68532083,\n",
              "       123.7201466 , 117.18249725,  82.49272084, 157.33674105,\n",
              "       154.59702496,  59.5332953 ,  87.25289917,  93.62685793,\n",
              "        97.79661541,  78.32694261,  83.1601145 ,  86.07024324,\n",
              "        68.98888874, 115.66990896,  80.48402401,  53.71185363,\n",
              "       183.14718571, 147.51922995, 137.66567302, 127.1663395 ,\n",
              "       119.07293218, 144.79255153,  72.79931511, 119.20504235,\n",
              "       113.53141308,  72.25186393,  75.05392486,  79.79809166,\n",
              "       129.8419327 , 152.06246224,  53.3850722 , 176.8262245 ,\n",
              "        83.02643788,  86.66059645, 130.17911366,  74.98210223,\n",
              "       124.08527422,  84.0574634 ,  89.45536121,  86.97820132,\n",
              "        92.58077648, 144.94274318,  91.87912889,  68.04949794,\n",
              "        99.07996551, 170.50433794, 114.82962796,  71.06668101,\n",
              "       163.79537891,  63.79161368, 181.06065224, 169.62377619,\n",
              "       120.95871606,  50.67842237,  90.7696179 ,  86.62887558,\n",
              "       157.03987456,  95.55146004,  97.38898982, 116.84541835,\n",
              "        82.78050353, 115.35965295, 132.39400608,  80.57106859,\n",
              "       163.69995699,  88.31750678,  92.04862768, 122.0286301 ,\n",
              "       153.69774945, 160.19989457,  93.74268266, 153.03512485,\n",
              "       141.49925687, 114.76599625, 118.77284284, 156.22542495,\n",
              "       131.31815209,  54.81626879,  85.22230572,  86.37205582,\n",
              "        73.40637719,  78.51550882,  60.50272337, 136.3903531 ,\n",
              "        60.47146961,  88.84388222,  94.92135627, 148.07193627,\n",
              "       163.84429631,  81.27694479,  75.61299492,  63.85955143,\n",
              "       165.32537114, 116.04655789,  90.55692377, 133.71221911,\n",
              "        73.10562769, 119.21120721,  92.87709875,  78.76278856,\n",
              "        54.81213406,  74.35727035, 124.51429642,  54.8133609 ,\n",
              "        88.55131266, 124.49318889,  50.21917069, 150.55346396,\n",
              "       148.06026312, 127.6981973 , 175.76130422,  87.17724056,\n",
              "       147.24576021, 150.50804993,  78.10407338,  76.72193191,\n",
              "       100.22948987,  81.75645654,  87.37265732,  74.16681232,\n",
              "        80.62503083, 120.59659956,  88.60270405,  87.88832954,\n",
              "       116.02747422, 127.70190388,  86.09941436, 120.29716086,\n",
              "       152.84165394, 123.62410303,  54.16873948, 124.50316979,\n",
              "       116.74566235, 135.40252256, 142.60688735,  86.30617579,\n",
              "       162.46760975, 162.66735138,  96.77034705,  78.09036316,\n",
              "       139.80032252,  91.68037989,  86.08730194, 175.12125068,\n",
              "        83.65921453,  76.63497265, 119.38103384, 100.09930151,\n",
              "       117.10122702,  88.10814454,  92.44658321, 114.92088475,\n",
              "        77.20415638, 173.70736876,  89.45061126, 150.60152463,\n",
              "       104.23575526,  57.14539444, 123.85738872,  86.93380282,\n",
              "        50.74797042,  79.545419  ,  69.26290238, 185.60637725,\n",
              "       147.4997412 , 126.36284757, 128.71785065,  66.8287972 ,\n",
              "        68.62927021,  79.66016021,  65.36458908, 124.60504498,\n",
              "       123.26254389, 152.27787615, 148.34726416,  87.95178615,\n",
              "        82.36021922,  71.67761369, 115.44170383,  67.24508978,\n",
              "       120.46745747, 137.50853532, 123.80039948, 160.1544391 ,\n",
              "       115.10986798, 145.65075008,  83.45616285,  93.51084018,\n",
              "       164.11180315, 123.56276483, 178.9541625 , 118.47293872,\n",
              "       158.04572699,  67.93343909,  95.5428255 ,  87.04397266,\n",
              "        75.97731798,  92.59123614, 136.0436278 , 116.43565256,\n",
              "        86.54438382,  94.88472181, 148.8162951 , 148.1535902 ,\n",
              "        82.02697057, 115.39002028,  85.72480371, 165.12783924,\n",
              "        60.5369605 ,  65.87503526, 161.18733274,  61.87537354,\n",
              "       115.85320404,  86.8771948 ,  87.25461303,  94.61492729,\n",
              "        69.00096576, 114.94425492,  71.59872003,  77.86857292,\n",
              "        53.31829207, 179.35763991, 102.48977672,  80.35866477,\n",
              "        92.11572128,  66.37010292, 103.0429898 ,  95.72212021,\n",
              "        85.81745416, 152.41633524, 150.45961379,  52.8905254 ,\n",
              "        72.02316787,  67.38038353, 115.20571351,  94.87446569,\n",
              "       155.37636602,  51.07447784,  63.53912534, 169.07361353,\n",
              "        67.73800637,  63.94867934,  95.94179605, 120.99422732,\n",
              "        52.99449524, 145.27081578, 155.27190232,  89.90157199,\n",
              "       138.57829145, 104.00048884,  62.12558554,  89.06776424,\n",
              "       130.58363721, 160.46467722,  80.35584475, 159.40348497,\n",
              "       115.94786038,  91.15248613, 114.94333063,  77.26027153,\n",
              "       168.439759  , 114.80512305, 114.23358635, 116.48031553,\n",
              "        65.68896785, 129.50183569,  65.96676972,  50.56892636,\n",
              "        88.2196484 ,  84.28893779,  78.34542036,  87.26851058,\n",
              "        88.52165673, 150.78697812, 137.68599805,  76.51990783,\n",
              "        79.42865543,  72.85188323, 122.39624649, 119.05522893,\n",
              "        74.66200113, 170.11413995,  94.36633006,  57.55447871,\n",
              "       165.80515145, 149.54645777,  93.819481  ,  72.18821041,\n",
              "        63.61896377,  86.31778704, 166.62889528,  85.60416084,\n",
              "        70.6536256 , 157.85816099, 163.24586841,  92.39374048,\n",
              "       119.40755829,  87.03207798,  82.29046225,  81.92956827,\n",
              "        82.67658409,  54.46051354, 179.77078105,  78.5292475 ,\n",
              "        83.5029172 , 125.78891155, 101.20682773,  74.38398465,\n",
              "        49.94275444, 147.5532253 , 122.74742614, 111.34195   ,\n",
              "        87.17454966, 164.3970171 ,  93.98074015, 114.76462642,\n",
              "        83.87858861, 154.73764668,  62.00692688,  50.88906587,\n",
              "        68.80594102, 102.21417981, 116.39078248, 161.05666275,\n",
              "        76.3433202 , 176.51886958,  86.02302877,  75.61189353,\n",
              "       114.58728128,  98.46260087, 144.32201466, 121.69212277,\n",
              "       167.84327985,  87.17487529,  81.98057038, 164.60342014,\n",
              "       122.27504747,  95.94099305,  80.05138357, 115.43156159,\n",
              "        82.39884412,  74.0429564 ,  76.76566106,  77.43687097,\n",
              "       147.67246167, 112.30446919,  92.98434027,  73.82339894,\n",
              "       167.99766717, 158.8936798 ,  82.00878297,  94.19129982,\n",
              "        94.45163286, 126.58672119,  88.49953619, 167.05726395,\n",
              "       118.45249109,  54.56118345, 164.10119836,  70.19023604,\n",
              "       142.43845036, 116.57761014, 120.15830739, 141.81618288,\n",
              "        91.04965929,  51.5238277 ,  78.15836402,  98.6423761 ,\n",
              "        94.49305306, 122.0993843 , 126.61097282,  65.65751941,\n",
              "       162.13740939,  82.27347584, 163.77705942, 112.78994445,\n",
              "        72.43149526,  84.20483683,  96.07174123, 150.17762512,\n",
              "       112.0160753 , 114.73463767,  59.5004395 , 130.24960661,\n",
              "       148.64922175,  74.41209371])"
            ]
          },
          "metadata": {},
          "execution_count": 27
        }
      ]
    },
    {
      "cell_type": "code",
      "source": [
        "#MSE\n",
        "#RMSE\n",
        "#r2 Square\n",
        "\n",
        "from sklearn.metrics import mean_squared_error, r2_score\n",
        "\n",
        "\n",
        "def calculate_metrics(y_test,y_pred):\n",
        "\n",
        "    mse = mean_squared_error(y_test,y_pred)\n",
        "    rmse = np.sqrt(mse)\n",
        "    r2_scor =r2_score(y_test ,y_pred)   #y_test = ground truth and y-pred = model predicted value\n",
        "\n",
        "    print(mse)\n",
        "    print(rmse)\n",
        "    print(r2_scor)\n",
        "\n",
        "calculate_metrics(y_test, pred1)"
      ],
      "metadata": {
        "colab": {
          "base_uri": "https://localhost:8080/"
        },
        "id": "77HgDdqpF6Fr",
        "outputId": "2171bf32-b6a3-42df-83c4-a1e72d08aaa4"
      },
      "execution_count": 31,
      "outputs": [
        {
          "output_type": "stream",
          "name": "stdout",
          "text": [
            "0.42542953272397427\n",
            "0.6522495938856339\n",
            "0.9996532228539028\n"
          ]
        }
      ]
    },
    {
      "cell_type": "code",
      "source": [
        "from sklearn.linear_model import Lasso,Ridge\n",
        "\n",
        "\n",
        "la = Lasso().fit(x_train, y_train)\n",
        "ri = Ridge().fit(x_train, y_train)\n",
        "\n",
        "la_p = la.predict(x_test)\n",
        "ri_p = ri.predict(x_test)\n",
        "\n",
        "\n",
        "calculate_metrics(y_test, la_p)"
      ],
      "metadata": {
        "colab": {
          "base_uri": "https://localhost:8080/"
        },
        "id": "on6tTcGHOVJO",
        "outputId": "aa14060f-70e1-48fd-d3a4-81b41ef6d7c6"
      },
      "execution_count": 33,
      "outputs": [
        {
          "output_type": "stream",
          "name": "stdout",
          "text": [
            "0.815017855920434\n",
            "0.9027833936888926\n",
            "0.9993356606809013\n"
          ]
        },
        {
          "output_type": "stream",
          "name": "stderr",
          "text": [
            "/usr/local/lib/python3.10/dist-packages/sklearn/linear_model/_coordinate_descent.py:631: ConvergenceWarning: Objective did not converge. You might want to increase the number of iterations, check the scale of the features or consider increasing regularisation. Duality gap: 5.645e+02, tolerance: 2.161e+02\n",
            "  model = cd_fast.enet_coordinate_descent(\n"
          ]
        }
      ]
    },
    {
      "cell_type": "code",
      "source": [
        "from sklearn.svm import SVR\n",
        "from sklearn.model_selection import GridSearchCV\n",
        "\n",
        "svr = SVR()\n",
        "\n",
        "# Corrected the typo in the 'kernel' parameter\n",
        "params_grid = {\n",
        "    'C': [0.1, 1, 10, 100, 1000],\n",
        "    'gamma': [1, 0.1, 0.01, 0.001, 0.0001],\n",
        "    'kernel': ['rbf']  # Changed 'kernal' to 'kernel'\n",
        "}\n",
        "\n",
        "grid = GridSearchCV(SVR(), params_grid, refit=True, verbose=3)\n",
        "grid.fit(x_train, y_train)"
      ],
      "metadata": {
        "colab": {
          "base_uri": "https://localhost:8080/",
          "height": 1000
        },
        "id": "PdlSuZVzOhmt",
        "outputId": "9a78ac10-e877-4744-a263-9922124c86bb"
      },
      "execution_count": 35,
      "outputs": [
        {
          "output_type": "stream",
          "name": "stdout",
          "text": [
            "Fitting 5 folds for each of 25 candidates, totalling 125 fits\n",
            "[CV 1/5] END .......C=0.1, gamma=1, kernel=rbf;, score=-0.044 total time=   0.2s\n",
            "[CV 2/5] END .......C=0.1, gamma=1, kernel=rbf;, score=-0.091 total time=   0.1s\n",
            "[CV 3/5] END .......C=0.1, gamma=1, kernel=rbf;, score=-0.073 total time=   0.1s\n",
            "[CV 4/5] END .......C=0.1, gamma=1, kernel=rbf;, score=-0.106 total time=   0.2s\n",
            "[CV 5/5] END .......C=0.1, gamma=1, kernel=rbf;, score=-0.148 total time=   0.1s\n",
            "[CV 1/5] END .....C=0.1, gamma=0.1, kernel=rbf;, score=-0.044 total time=   0.1s\n",
            "[CV 2/5] END .....C=0.1, gamma=0.1, kernel=rbf;, score=-0.091 total time=   0.1s\n",
            "[CV 3/5] END .....C=0.1, gamma=0.1, kernel=rbf;, score=-0.073 total time=   0.2s\n",
            "[CV 4/5] END .....C=0.1, gamma=0.1, kernel=rbf;, score=-0.106 total time=   0.1s\n",
            "[CV 5/5] END .....C=0.1, gamma=0.1, kernel=rbf;, score=-0.148 total time=   0.2s\n",
            "[CV 1/5] END ....C=0.1, gamma=0.01, kernel=rbf;, score=-0.044 total time=   0.2s\n",
            "[CV 2/5] END ....C=0.1, gamma=0.01, kernel=rbf;, score=-0.091 total time=   0.1s\n",
            "[CV 3/5] END ....C=0.1, gamma=0.01, kernel=rbf;, score=-0.072 total time=   0.1s\n",
            "[CV 4/5] END ....C=0.1, gamma=0.01, kernel=rbf;, score=-0.106 total time=   0.1s\n",
            "[CV 5/5] END ....C=0.1, gamma=0.01, kernel=rbf;, score=-0.148 total time=   0.1s\n",
            "[CV 1/5] END ...C=0.1, gamma=0.001, kernel=rbf;, score=-0.044 total time=   0.2s\n",
            "[CV 2/5] END ...C=0.1, gamma=0.001, kernel=rbf;, score=-0.090 total time=   0.1s\n",
            "[CV 3/5] END ...C=0.1, gamma=0.001, kernel=rbf;, score=-0.072 total time=   0.2s\n",
            "[CV 4/5] END ...C=0.1, gamma=0.001, kernel=rbf;, score=-0.105 total time=   0.1s\n",
            "[CV 5/5] END ...C=0.1, gamma=0.001, kernel=rbf;, score=-0.147 total time=   0.1s\n",
            "[CV 1/5] END ..C=0.1, gamma=0.0001, kernel=rbf;, score=-0.043 total time=   0.2s\n",
            "[CV 2/5] END ..C=0.1, gamma=0.0001, kernel=rbf;, score=-0.090 total time=   0.1s\n",
            "[CV 3/5] END ..C=0.1, gamma=0.0001, kernel=rbf;, score=-0.072 total time=   0.2s\n",
            "[CV 4/5] END ..C=0.1, gamma=0.0001, kernel=rbf;, score=-0.104 total time=   0.1s\n",
            "[CV 5/5] END ..C=0.1, gamma=0.0001, kernel=rbf;, score=-0.147 total time=   0.2s\n",
            "[CV 1/5] END .........C=1, gamma=1, kernel=rbf;, score=-0.044 total time=   0.1s\n",
            "[CV 2/5] END .........C=1, gamma=1, kernel=rbf;, score=-0.089 total time=   0.2s\n",
            "[CV 3/5] END .........C=1, gamma=1, kernel=rbf;, score=-0.072 total time=   0.1s\n",
            "[CV 4/5] END .........C=1, gamma=1, kernel=rbf;, score=-0.107 total time=   0.1s\n",
            "[CV 5/5] END .........C=1, gamma=1, kernel=rbf;, score=-0.148 total time=   0.1s\n",
            "[CV 1/5] END .......C=1, gamma=0.1, kernel=rbf;, score=-0.043 total time=   0.1s\n",
            "[CV 2/5] END .......C=1, gamma=0.1, kernel=rbf;, score=-0.089 total time=   0.2s\n",
            "[CV 3/5] END .......C=1, gamma=0.1, kernel=rbf;, score=-0.071 total time=   0.3s\n",
            "[CV 4/5] END .......C=1, gamma=0.1, kernel=rbf;, score=-0.107 total time=   0.3s\n",
            "[CV 5/5] END .......C=1, gamma=0.1, kernel=rbf;, score=-0.148 total time=   0.3s\n",
            "[CV 1/5] END ......C=1, gamma=0.01, kernel=rbf;, score=-0.042 total time=   0.3s\n",
            "[CV 2/5] END ......C=1, gamma=0.01, kernel=rbf;, score=-0.088 total time=   0.3s\n",
            "[CV 3/5] END ......C=1, gamma=0.01, kernel=rbf;, score=-0.070 total time=   0.3s\n",
            "[CV 4/5] END ......C=1, gamma=0.01, kernel=rbf;, score=-0.106 total time=   0.3s\n",
            "[CV 5/5] END ......C=1, gamma=0.01, kernel=rbf;, score=-0.148 total time=   0.3s\n",
            "[CV 1/5] END .....C=1, gamma=0.001, kernel=rbf;, score=-0.041 total time=   0.3s\n",
            "[CV 2/5] END .....C=1, gamma=0.001, kernel=rbf;, score=-0.085 total time=   0.3s\n",
            "[CV 3/5] END .....C=1, gamma=0.001, kernel=rbf;, score=-0.067 total time=   0.3s\n",
            "[CV 4/5] END .....C=1, gamma=0.001, kernel=rbf;, score=-0.103 total time=   0.3s\n",
            "[CV 5/5] END .....C=1, gamma=0.001, kernel=rbf;, score=-0.144 total time=   0.2s\n",
            "[CV 1/5] END ....C=1, gamma=0.0001, kernel=rbf;, score=-0.036 total time=   0.1s\n",
            "[CV 2/5] END ....C=1, gamma=0.0001, kernel=rbf;, score=-0.079 total time=   0.1s\n",
            "[CV 3/5] END ....C=1, gamma=0.0001, kernel=rbf;, score=-0.061 total time=   0.2s\n",
            "[CV 4/5] END ....C=1, gamma=0.0001, kernel=rbf;, score=-0.096 total time=   0.2s\n",
            "[CV 5/5] END ....C=1, gamma=0.0001, kernel=rbf;, score=-0.139 total time=   0.1s\n",
            "[CV 1/5] END ........C=10, gamma=1, kernel=rbf;, score=-0.018 total time=   0.2s\n",
            "[CV 2/5] END ........C=10, gamma=1, kernel=rbf;, score=-0.055 total time=   0.2s\n",
            "[CV 3/5] END ........C=10, gamma=1, kernel=rbf;, score=-0.041 total time=   0.2s\n",
            "[CV 4/5] END ........C=10, gamma=1, kernel=rbf;, score=-0.070 total time=   0.2s\n",
            "[CV 5/5] END ........C=10, gamma=1, kernel=rbf;, score=-0.108 total time=   0.2s\n",
            "[CV 1/5] END ......C=10, gamma=0.1, kernel=rbf;, score=-0.012 total time=   0.2s\n",
            "[CV 2/5] END ......C=10, gamma=0.1, kernel=rbf;, score=-0.051 total time=   0.2s\n",
            "[CV 3/5] END ......C=10, gamma=0.1, kernel=rbf;, score=-0.036 total time=   0.2s\n",
            "[CV 4/5] END ......C=10, gamma=0.1, kernel=rbf;, score=-0.068 total time=   0.2s\n",
            "[CV 5/5] END ......C=10, gamma=0.1, kernel=rbf;, score=-0.107 total time=   0.2s\n",
            "[CV 1/5] END .....C=10, gamma=0.01, kernel=rbf;, score=-0.006 total time=   0.2s\n",
            "[CV 2/5] END .....C=10, gamma=0.01, kernel=rbf;, score=-0.045 total time=   0.2s\n",
            "[CV 3/5] END .....C=10, gamma=0.01, kernel=rbf;, score=-0.024 total time=   0.2s\n",
            "[CV 4/5] END .....C=10, gamma=0.01, kernel=rbf;, score=-0.059 total time=   0.2s\n",
            "[CV 5/5] END .....C=10, gamma=0.01, kernel=rbf;, score=-0.099 total time=   0.2s\n",
            "[CV 1/5] END .....C=10, gamma=0.001, kernel=rbf;, score=0.006 total time=   0.2s\n",
            "[CV 2/5] END ....C=10, gamma=0.001, kernel=rbf;, score=-0.023 total time=   0.2s\n",
            "[CV 3/5] END .....C=10, gamma=0.001, kernel=rbf;, score=0.002 total time=   0.2s\n",
            "[CV 4/5] END ....C=10, gamma=0.001, kernel=rbf;, score=-0.041 total time=   0.2s\n",
            "[CV 5/5] END ....C=10, gamma=0.001, kernel=rbf;, score=-0.071 total time=   0.2s\n",
            "[CV 1/5] END ....C=10, gamma=0.0001, kernel=rbf;, score=0.044 total time=   0.2s\n",
            "[CV 2/5] END ....C=10, gamma=0.0001, kernel=rbf;, score=0.025 total time=   0.2s\n",
            "[CV 3/5] END ....C=10, gamma=0.0001, kernel=rbf;, score=0.047 total time=   0.2s\n",
            "[CV 4/5] END ....C=10, gamma=0.0001, kernel=rbf;, score=0.014 total time=   0.2s\n",
            "[CV 5/5] END ...C=10, gamma=0.0001, kernel=rbf;, score=-0.031 total time=   0.2s\n",
            "[CV 1/5] END ........C=100, gamma=1, kernel=rbf;, score=0.001 total time=   0.3s\n",
            "[CV 2/5] END ........C=100, gamma=1, kernel=rbf;, score=0.008 total time=   0.3s\n",
            "[CV 3/5] END ........C=100, gamma=1, kernel=rbf;, score=0.003 total time=   0.3s\n",
            "[CV 4/5] END ........C=100, gamma=1, kernel=rbf;, score=0.000 total time=   0.2s\n",
            "[CV 5/5] END .......C=100, gamma=1, kernel=rbf;, score=-0.007 total time=   0.2s\n",
            "[CV 1/5] END ......C=100, gamma=0.1, kernel=rbf;, score=0.014 total time=   0.3s\n",
            "[CV 2/5] END ......C=100, gamma=0.1, kernel=rbf;, score=0.017 total time=   0.3s\n",
            "[CV 3/5] END ......C=100, gamma=0.1, kernel=rbf;, score=0.016 total time=   0.3s\n",
            "[CV 4/5] END ......C=100, gamma=0.1, kernel=rbf;, score=0.001 total time=   0.3s\n",
            "[CV 5/5] END .....C=100, gamma=0.1, kernel=rbf;, score=-0.004 total time=   0.2s\n",
            "[CV 1/5] END .....C=100, gamma=0.01, kernel=rbf;, score=0.021 total time=   0.3s\n",
            "[CV 2/5] END .....C=100, gamma=0.01, kernel=rbf;, score=0.025 total time=   0.3s\n",
            "[CV 3/5] END .....C=100, gamma=0.01, kernel=rbf;, score=0.037 total time=   0.3s\n",
            "[CV 4/5] END .....C=100, gamma=0.01, kernel=rbf;, score=0.011 total time=   0.3s\n",
            "[CV 5/5] END .....C=100, gamma=0.01, kernel=rbf;, score=0.009 total time=   0.3s\n",
            "[CV 1/5] END ....C=100, gamma=0.001, kernel=rbf;, score=0.047 total time=   0.2s\n",
            "[CV 2/5] END ....C=100, gamma=0.001, kernel=rbf;, score=0.069 total time=   0.2s\n",
            "[CV 3/5] END ....C=100, gamma=0.001, kernel=rbf;, score=0.087 total time=   0.3s\n",
            "[CV 4/5] END ....C=100, gamma=0.001, kernel=rbf;, score=0.036 total time=   0.3s\n",
            "[CV 5/5] END ....C=100, gamma=0.001, kernel=rbf;, score=0.064 total time=   0.4s\n",
            "[CV 1/5] END ...C=100, gamma=0.0001, kernel=rbf;, score=0.126 total time=   0.5s\n",
            "[CV 2/5] END ...C=100, gamma=0.0001, kernel=rbf;, score=0.160 total time=   0.5s\n",
            "[CV 3/5] END ...C=100, gamma=0.0001, kernel=rbf;, score=0.168 total time=   0.5s\n",
            "[CV 4/5] END ...C=100, gamma=0.0001, kernel=rbf;, score=0.133 total time=   0.5s\n",
            "[CV 5/5] END ...C=100, gamma=0.0001, kernel=rbf;, score=0.150 total time=   0.5s\n",
            "[CV 1/5] END .......C=1000, gamma=1, kernel=rbf;, score=0.001 total time=   0.5s\n",
            "[CV 2/5] END .......C=1000, gamma=1, kernel=rbf;, score=0.008 total time=   0.5s\n",
            "[CV 3/5] END .......C=1000, gamma=1, kernel=rbf;, score=0.003 total time=   0.3s\n",
            "[CV 4/5] END .......C=1000, gamma=1, kernel=rbf;, score=0.000 total time=   0.2s\n",
            "[CV 5/5] END ......C=1000, gamma=1, kernel=rbf;, score=-0.007 total time=   0.2s\n",
            "[CV 1/5] END .....C=1000, gamma=0.1, kernel=rbf;, score=0.014 total time=   0.3s\n",
            "[CV 2/5] END .....C=1000, gamma=0.1, kernel=rbf;, score=0.017 total time=   0.3s\n",
            "[CV 3/5] END .....C=1000, gamma=0.1, kernel=rbf;, score=0.016 total time=   0.3s\n",
            "[CV 4/5] END .....C=1000, gamma=0.1, kernel=rbf;, score=0.001 total time=   0.3s\n",
            "[CV 5/5] END ....C=1000, gamma=0.1, kernel=rbf;, score=-0.004 total time=   0.3s\n",
            "[CV 1/5] END ....C=1000, gamma=0.01, kernel=rbf;, score=0.021 total time=   0.3s\n",
            "[CV 2/5] END ....C=1000, gamma=0.01, kernel=rbf;, score=0.025 total time=   0.3s\n",
            "[CV 3/5] END ....C=1000, gamma=0.01, kernel=rbf;, score=0.037 total time=   0.3s\n",
            "[CV 4/5] END ....C=1000, gamma=0.01, kernel=rbf;, score=0.011 total time=   0.3s\n",
            "[CV 5/5] END ....C=1000, gamma=0.01, kernel=rbf;, score=0.009 total time=   0.3s\n",
            "[CV 1/5] END ...C=1000, gamma=0.001, kernel=rbf;, score=0.047 total time=   0.2s\n",
            "[CV 2/5] END ...C=1000, gamma=0.001, kernel=rbf;, score=0.069 total time=   0.2s\n",
            "[CV 3/5] END ...C=1000, gamma=0.001, kernel=rbf;, score=0.087 total time=   0.3s\n",
            "[CV 4/5] END ...C=1000, gamma=0.001, kernel=rbf;, score=0.036 total time=   0.3s\n",
            "[CV 5/5] END ...C=1000, gamma=0.001, kernel=rbf;, score=0.064 total time=   0.2s\n",
            "[CV 1/5] END ..C=1000, gamma=0.0001, kernel=rbf;, score=0.130 total time=   0.3s\n",
            "[CV 2/5] END ..C=1000, gamma=0.0001, kernel=rbf;, score=0.163 total time=   0.3s\n",
            "[CV 3/5] END ..C=1000, gamma=0.0001, kernel=rbf;, score=0.172 total time=   0.3s\n",
            "[CV 4/5] END ..C=1000, gamma=0.0001, kernel=rbf;, score=0.134 total time=   0.3s\n",
            "[CV 5/5] END ..C=1000, gamma=0.0001, kernel=rbf;, score=0.151 total time=   0.3s\n"
          ]
        },
        {
          "output_type": "execute_result",
          "data": {
            "text/plain": [
              "GridSearchCV(estimator=SVR(),\n",
              "             param_grid={'C': [0.1, 1, 10, 100, 1000],\n",
              "                         'gamma': [1, 0.1, 0.01, 0.001, 0.0001],\n",
              "                         'kernel': ['rbf']},\n",
              "             verbose=3)"
            ],
            "text/html": [
              "<style>#sk-container-id-2 {color: black;background-color: white;}#sk-container-id-2 pre{padding: 0;}#sk-container-id-2 div.sk-toggleable {background-color: white;}#sk-container-id-2 label.sk-toggleable__label {cursor: pointer;display: block;width: 100%;margin-bottom: 0;padding: 0.3em;box-sizing: border-box;text-align: center;}#sk-container-id-2 label.sk-toggleable__label-arrow:before {content: \"▸\";float: left;margin-right: 0.25em;color: #696969;}#sk-container-id-2 label.sk-toggleable__label-arrow:hover:before {color: black;}#sk-container-id-2 div.sk-estimator:hover label.sk-toggleable__label-arrow:before {color: black;}#sk-container-id-2 div.sk-toggleable__content {max-height: 0;max-width: 0;overflow: hidden;text-align: left;background-color: #f0f8ff;}#sk-container-id-2 div.sk-toggleable__content pre {margin: 0.2em;color: black;border-radius: 0.25em;background-color: #f0f8ff;}#sk-container-id-2 input.sk-toggleable__control:checked~div.sk-toggleable__content {max-height: 200px;max-width: 100%;overflow: auto;}#sk-container-id-2 input.sk-toggleable__control:checked~label.sk-toggleable__label-arrow:before {content: \"▾\";}#sk-container-id-2 div.sk-estimator input.sk-toggleable__control:checked~label.sk-toggleable__label {background-color: #d4ebff;}#sk-container-id-2 div.sk-label input.sk-toggleable__control:checked~label.sk-toggleable__label {background-color: #d4ebff;}#sk-container-id-2 input.sk-hidden--visually {border: 0;clip: rect(1px 1px 1px 1px);clip: rect(1px, 1px, 1px, 1px);height: 1px;margin: -1px;overflow: hidden;padding: 0;position: absolute;width: 1px;}#sk-container-id-2 div.sk-estimator {font-family: monospace;background-color: #f0f8ff;border: 1px dotted black;border-radius: 0.25em;box-sizing: border-box;margin-bottom: 0.5em;}#sk-container-id-2 div.sk-estimator:hover {background-color: #d4ebff;}#sk-container-id-2 div.sk-parallel-item::after {content: \"\";width: 100%;border-bottom: 1px solid gray;flex-grow: 1;}#sk-container-id-2 div.sk-label:hover label.sk-toggleable__label {background-color: #d4ebff;}#sk-container-id-2 div.sk-serial::before {content: \"\";position: absolute;border-left: 1px solid gray;box-sizing: border-box;top: 0;bottom: 0;left: 50%;z-index: 0;}#sk-container-id-2 div.sk-serial {display: flex;flex-direction: column;align-items: center;background-color: white;padding-right: 0.2em;padding-left: 0.2em;position: relative;}#sk-container-id-2 div.sk-item {position: relative;z-index: 1;}#sk-container-id-2 div.sk-parallel {display: flex;align-items: stretch;justify-content: center;background-color: white;position: relative;}#sk-container-id-2 div.sk-item::before, #sk-container-id-2 div.sk-parallel-item::before {content: \"\";position: absolute;border-left: 1px solid gray;box-sizing: border-box;top: 0;bottom: 0;left: 50%;z-index: -1;}#sk-container-id-2 div.sk-parallel-item {display: flex;flex-direction: column;z-index: 1;position: relative;background-color: white;}#sk-container-id-2 div.sk-parallel-item:first-child::after {align-self: flex-end;width: 50%;}#sk-container-id-2 div.sk-parallel-item:last-child::after {align-self: flex-start;width: 50%;}#sk-container-id-2 div.sk-parallel-item:only-child::after {width: 0;}#sk-container-id-2 div.sk-dashed-wrapped {border: 1px dashed gray;margin: 0 0.4em 0.5em 0.4em;box-sizing: border-box;padding-bottom: 0.4em;background-color: white;}#sk-container-id-2 div.sk-label label {font-family: monospace;font-weight: bold;display: inline-block;line-height: 1.2em;}#sk-container-id-2 div.sk-label-container {text-align: center;}#sk-container-id-2 div.sk-container {/* jupyter's `normalize.less` sets `[hidden] { display: none; }` but bootstrap.min.css set `[hidden] { display: none !important; }` so we also need the `!important` here to be able to override the default hidden behavior on the sphinx rendered scikit-learn.org. See: https://github.com/scikit-learn/scikit-learn/issues/21755 */display: inline-block !important;position: relative;}#sk-container-id-2 div.sk-text-repr-fallback {display: none;}</style><div id=\"sk-container-id-2\" class=\"sk-top-container\"><div class=\"sk-text-repr-fallback\"><pre>GridSearchCV(estimator=SVR(),\n",
              "             param_grid={&#x27;C&#x27;: [0.1, 1, 10, 100, 1000],\n",
              "                         &#x27;gamma&#x27;: [1, 0.1, 0.01, 0.001, 0.0001],\n",
              "                         &#x27;kernel&#x27;: [&#x27;rbf&#x27;]},\n",
              "             verbose=3)</pre><b>In a Jupyter environment, please rerun this cell to show the HTML representation or trust the notebook. <br />On GitHub, the HTML representation is unable to render, please try loading this page with nbviewer.org.</b></div><div class=\"sk-container\" hidden><div class=\"sk-item sk-dashed-wrapped\"><div class=\"sk-label-container\"><div class=\"sk-label sk-toggleable\"><input class=\"sk-toggleable__control sk-hidden--visually\" id=\"sk-estimator-id-2\" type=\"checkbox\" ><label for=\"sk-estimator-id-2\" class=\"sk-toggleable__label sk-toggleable__label-arrow\">GridSearchCV</label><div class=\"sk-toggleable__content\"><pre>GridSearchCV(estimator=SVR(),\n",
              "             param_grid={&#x27;C&#x27;: [0.1, 1, 10, 100, 1000],\n",
              "                         &#x27;gamma&#x27;: [1, 0.1, 0.01, 0.001, 0.0001],\n",
              "                         &#x27;kernel&#x27;: [&#x27;rbf&#x27;]},\n",
              "             verbose=3)</pre></div></div></div><div class=\"sk-parallel\"><div class=\"sk-parallel-item\"><div class=\"sk-item\"><div class=\"sk-label-container\"><div class=\"sk-label sk-toggleable\"><input class=\"sk-toggleable__control sk-hidden--visually\" id=\"sk-estimator-id-3\" type=\"checkbox\" ><label for=\"sk-estimator-id-3\" class=\"sk-toggleable__label sk-toggleable__label-arrow\">estimator: SVR</label><div class=\"sk-toggleable__content\"><pre>SVR()</pre></div></div></div><div class=\"sk-serial\"><div class=\"sk-item\"><div class=\"sk-estimator sk-toggleable\"><input class=\"sk-toggleable__control sk-hidden--visually\" id=\"sk-estimator-id-4\" type=\"checkbox\" ><label for=\"sk-estimator-id-4\" class=\"sk-toggleable__label sk-toggleable__label-arrow\">SVR</label><div class=\"sk-toggleable__content\"><pre>SVR()</pre></div></div></div></div></div></div></div></div></div></div>"
            ]
          },
          "metadata": {},
          "execution_count": 35
        }
      ]
    },
    {
      "cell_type": "code",
      "source": [
        "svr = SVR(C =10, gamma= 0.01, kernel = 'rbf')\n",
        "svr.fit(x_train, y_train)\n",
        "svr_pred = svr.predict(x_test)"
      ],
      "metadata": {
        "id": "X9qMFNmfQh2U"
      },
      "execution_count": 36,
      "outputs": []
    },
    {
      "cell_type": "code",
      "source": [
        "import joblib\n",
        "\n",
        "joblib.dump(ri,'model.pkl')\n",
        "\n",
        "ridge_from_model =model= joblib.load(\"model.pkl\")\n"
      ],
      "metadata": {
        "id": "whbZAq1rQkx1"
      },
      "execution_count": 41,
      "outputs": []
    }
  ]
}